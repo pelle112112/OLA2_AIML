{
 "cells": [
  {
   "cell_type": "code",
   "execution_count": 20,
   "metadata": {},
   "outputs": [],
   "source": [
    "import pandas as pd\n",
    "import numpy as np\n",
    "import matplotlib.pyplot as plt\n",
    "import seaborn as sns\n",
    "from sklearn.preprocessing import StandardScaler\n",
    "from sklearn.model_selection import train_test_split\n",
    "from sklearn.linear_model import LogisticRegression\n",
    "from sklearn.metrics import classification_report, confusion_matrix, accuracy_score\n",
    "from sklearn.ensemble import RandomForestClassifier, GradientBoostingClassifier\n",
    "from sklearn.tree import DecisionTreeClassifier"
   ]
  },
  {
   "cell_type": "code",
   "execution_count": 21,
   "metadata": {},
   "outputs": [
    {
     "name": "stdout",
     "output_type": "stream",
     "text": [
      "   Patient_ID  Age  Blood_Pressure  CVD_Risk_Score  Gender_Male  \\\n",
      "0           1   55             104              78            1   \n",
      "1           2   66             142              49            0   \n",
      "2           3   69             176              31            0   \n",
      "3           4   45             178              23            0   \n",
      "4           5   39             146              79            0   \n",
      "\n",
      "   Smoking_Status_Smoker  Cholesterol_Level_Low  Cholesterol_Level_Normal  \\\n",
      "0                      0                      0                         1   \n",
      "1                      1                      1                         0   \n",
      "2                      1                      1                         0   \n",
      "3                      1                      0                         1   \n",
      "4                      1                      0                         1   \n",
      "\n",
      "   Air_Pollution_Exposure_Low  Air_Pollution_Exposure_Medium  ...  \\\n",
      "0                           0                              0  ...   \n",
      "1                           0                              1  ...   \n",
      "2                           0                              1  ...   \n",
      "3                           0                              1  ...   \n",
      "4                           0                              1  ...   \n",
      "\n",
      "   Income_Level_Middle  Hypertension_Yes  Diabetes_Yes  Obesity_Yes  \\\n",
      "0                    0                 0             0            1   \n",
      "1                    1                 1             0            0   \n",
      "2                    0                 0             0            0   \n",
      "3                    0                 0             1            0   \n",
      "4                    1                 0             0            0   \n",
      "\n",
      "   Alcohol_Consumption_Yes  Family_History_CVD_Yes  TCM_Use_Yes  \\\n",
      "0                        1                       0            1   \n",
      "1                        0                       1            0   \n",
      "2                        0                       0            0   \n",
      "3                        1                       0            1   \n",
      "4                        0                       0            0   \n",
      "\n",
      "   Chronic_Kidney_Disease_Yes  Previous_Heart_Attack_Yes  Heart_Attack_Yes  \n",
      "0                           1                          0                 0  \n",
      "1                           0                          0                 0  \n",
      "2                           0                          0                 0  \n",
      "3                           0                          1                 0  \n",
      "4                           1                          0                 0  \n",
      "\n",
      "[5 rows x 48 columns]\n"
     ]
    }
   ],
   "source": [
    "# Load the data\n",
    "import pickle\n",
    "with open('../Data/cleanedDF.pkl', 'rb') as file:\n",
    "    data = pickle.load(file)\n",
    "\n",
    "df = data.copy()\n",
    "\n",
    "print(df.head())"
   ]
  },
  {
   "cell_type": "code",
   "execution_count": 22,
   "metadata": {},
   "outputs": [],
   "source": [
    "# Prepare the data\n",
    "X = df.drop('Heart_Attack_Yes', axis=1)\n",
    "y = df['Heart_Attack_Yes']\n",
    "\n",
    "# Split the data into training and testing sets\n",
    "X_train, X_test, y_train, y_test = train_test_split(X, y, test_size=0.2, random_state=42)\n",
    "\n"
   ]
  },
  {
   "cell_type": "code",
   "execution_count": 23,
   "metadata": {},
   "outputs": [
    {
     "name": "stdout",
     "output_type": "stream",
     "text": [
      "Accuracy of Random Forrest:  0.8784636603000794\n",
      "Classification Report:\n",
      "               precision    recall  f1-score   support\n",
      "\n",
      "           0       0.88      1.00      0.94     42038\n",
      "           1       0.00      0.00      0.00      5816\n",
      "\n",
      "    accuracy                           0.88     47854\n",
      "   macro avg       0.44      0.50      0.47     47854\n",
      "weighted avg       0.77      0.88      0.82     47854\n",
      "\n",
      "Accuracy of Decision Tree:  0.7649517281731935\n",
      "Confusion Matrix:\n",
      " [[35753  6285]\n",
      " [ 4963   853]]\n",
      "Classification Report:\n",
      "               precision    recall  f1-score   support\n",
      "\n",
      "           0       0.88      0.85      0.86     42038\n",
      "           1       0.12      0.15      0.13      5816\n",
      "\n",
      "    accuracy                           0.76     47854\n",
      "   macro avg       0.50      0.50      0.50     47854\n",
      "weighted avg       0.79      0.76      0.78     47854\n",
      "\n"
     ]
    },
    {
     "name": "stderr",
     "output_type": "stream",
     "text": [
      "c:\\Work\\soft1sem\\AIML\\OLA2\\OLA2_AIML\\.venv\\Lib\\site-packages\\sklearn\\metrics\\_classification.py:1565: UndefinedMetricWarning: Precision is ill-defined and being set to 0.0 in labels with no predicted samples. Use `zero_division` parameter to control this behavior.\n",
      "  _warn_prf(average, modifier, f\"{metric.capitalize()} is\", len(result))\n",
      "c:\\Work\\soft1sem\\AIML\\OLA2\\OLA2_AIML\\.venv\\Lib\\site-packages\\sklearn\\metrics\\_classification.py:1565: UndefinedMetricWarning: Precision is ill-defined and being set to 0.0 in labels with no predicted samples. Use `zero_division` parameter to control this behavior.\n",
      "  _warn_prf(average, modifier, f\"{metric.capitalize()} is\", len(result))\n",
      "c:\\Work\\soft1sem\\AIML\\OLA2\\OLA2_AIML\\.venv\\Lib\\site-packages\\sklearn\\metrics\\_classification.py:1565: UndefinedMetricWarning: Precision is ill-defined and being set to 0.0 in labels with no predicted samples. Use `zero_division` parameter to control this behavior.\n",
      "  _warn_prf(average, modifier, f\"{metric.capitalize()} is\", len(result))\n"
     ]
    }
   ],
   "source": [
    "# Random Forrest Classifier\n",
    "rf_classifier = RandomForestClassifier(random_state=42)\n",
    "rf_classifier.fit(X_train, y_train)\n",
    "\n",
    "# Decision Tree\n",
    "dt_classifier = DecisionTreeClassifier(random_state=42)\n",
    "dt_classifier.fit(X_train, y_train)\n",
    "\n",
    "# Evaluating models\n",
    "rf_predictions = rf_classifier.predict(X_test)\n",
    "print(\"Accuracy of Random Forrest: \", accuracy_score(y_test, rf_predictions))\n",
    "print(\"Classification Report:\\n\", classification_report(y_test, rf_predictions))\n",
    "\n",
    "dt_predictions = dt_classifier.predict(X_test)\n",
    "print(\"Accuracy of Decision Tree: \", accuracy_score(y_test, dt_predictions))\n",
    "print(\"Confusion Matrix:\\n\", confusion_matrix(y_test, dt_predictions))\n",
    "print(\"Classification Report:\\n\", classification_report(y_test, dt_predictions))\n",
    "\n"
   ]
  },
  {
   "cell_type": "code",
   "execution_count": 24,
   "metadata": {},
   "outputs": [
    {
     "name": "stdout",
     "output_type": "stream",
     "text": [
      "\n",
      "Feature Importances (Random Forest):\n",
      "                            Feature  Importance\n",
      "0                        Patient_ID    0.113505\n",
      "3                    CVD_Risk_Score    0.099701\n",
      "2                    Blood_Pressure    0.099033\n",
      "1                               Age    0.094600\n",
      "4                       Gender_Male    0.018678\n",
      "44                      TCM_Use_Yes    0.018124\n",
      "5             Smoking_Status_Smoker    0.017628\n",
      "18             Rural_or_Urban_Urban    0.017224\n",
      "42          Alcohol_Consumption_Yes    0.016323\n",
      "30        Hospital_Availability_Low    0.016140\n",
      "31     Hospital_Availability_Medium    0.016013\n",
      "9     Air_Pollution_Exposure_Medium    0.015975\n",
      "43           Family_History_CVD_Yes    0.015758\n",
      "12              Diet_Score_Moderate    0.015721\n",
      "39                 Hypertension_Yes    0.015692\n",
      "14                 Stress_Level_Low    0.015441\n",
      "10            Physical_Activity_Low    0.015389\n",
      "7          Cholesterol_Level_Normal    0.015301\n",
      "13                  Diet_Score_Poor    0.015187\n",
      "15              Stress_Level_Medium    0.015115\n",
      "16       Healthcare_Access_Moderate    0.014919\n",
      "17           Healthcare_Access_Poor    0.014771\n",
      "11         Physical_Activity_Medium    0.014752\n",
      "37                 Income_Level_Low    0.014697\n",
      "38              Income_Level_Middle    0.014392\n",
      "6             Cholesterol_Level_Low    0.014245\n",
      "41                      Obesity_Yes    0.014180\n",
      "8        Air_Pollution_Exposure_Low    0.013782\n",
      "36  Education_Level_Unknown or None    0.013694\n",
      "34          Education_Level_Primary    0.013370\n",
      "32        Employment_Status_Retired    0.013144\n",
      "33     Employment_Status_Unemployed    0.013058\n",
      "35        Education_Level_Secondary    0.013002\n",
      "21                  Region_Southern    0.012410\n",
      "45       Chronic_Kidney_Disease_Yes    0.012332\n",
      "19                   Region_Eastern    0.011855\n",
      "22                   Region_Western    0.011716\n",
      "20                  Region_Northern    0.011629\n",
      "40                     Diabetes_Yes    0.010692\n",
      "29                 Province_Sichuan    0.010542\n",
      "27                Province_Shandong    0.010415\n",
      "46        Previous_Heart_Attack_Yes    0.010264\n",
      "24               Province_Guangdong    0.010201\n",
      "25                   Province_Henan    0.010129\n",
      "26                 Province_Qinghai    0.009995\n",
      "28                Province_Shanghai    0.009730\n",
      "23                   Province_Gansu    0.009540\n"
     ]
    }
   ],
   "source": [
    "# Now lets check which of the features are the most important for the Random Forrest Classifier\n",
    "rf_feature_importances = rf_classifier.feature_importances_\n",
    "features = X.columns\n",
    "feature_importance_df = pd.DataFrame({'Feature': features, 'Importance': rf_feature_importances})\n",
    "feature_importance_df = feature_importance_df.sort_values(by='Importance', ascending=False)\n",
    "\n",
    "print(\"\\nFeature Importances (Random Forest):\")\n",
    "print(feature_importance_df)"
   ]
  }
 ],
 "metadata": {
  "kernelspec": {
   "display_name": ".venv",
   "language": "python",
   "name": "python3"
  },
  "language_info": {
   "codemirror_mode": {
    "name": "ipython",
    "version": 3
   },
   "file_extension": ".py",
   "mimetype": "text/x-python",
   "name": "python",
   "nbconvert_exporter": "python",
   "pygments_lexer": "ipython3",
   "version": "3.12.0"
  }
 },
 "nbformat": 4,
 "nbformat_minor": 2
}
